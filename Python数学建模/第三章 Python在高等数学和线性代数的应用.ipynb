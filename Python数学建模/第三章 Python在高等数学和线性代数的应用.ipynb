{
 "cells": [
  {
   "attachments": {},
   "cell_type": "markdown",
   "metadata": {},
   "source": [
    "# 第三章"
   ]
  },
  {
   "attachments": {},
   "cell_type": "markdown",
   "metadata": {},
   "source": [
    "## 3.1 求下列积分的符号解"
   ]
  },
  {
   "attachments": {},
   "cell_type": "markdown",
   "metadata": {},
   "source": [
    "(1) $\\int_{0}^{1} \\sqrt{1+4x}\\,dx$"
   ]
  },
  {
   "cell_type": "code",
   "execution_count": 13,
   "metadata": {},
   "outputs": [
    {
     "data": {
      "text/latex": [
       "$\\displaystyle 1.69672331458316$"
      ],
      "text/plain": [
       "1.69672331458316"
      ]
     },
     "execution_count": 13,
     "metadata": {},
     "output_type": "execute_result"
    }
   ],
   "source": [
    "import sympy as sp\n",
    "\n",
    "x = sp.symbols('x') # 符号化\n",
    "\n",
    "result = sp.integrate((1 + 4*x)**(1/2), (x, 0,1))\n",
    "result"
   ]
  },
  {
   "attachments": {},
   "cell_type": "markdown",
   "metadata": {},
   "source": [
    "(2) $\\int_{0}^{+\\infty} e^{-x} sinx\\, dx$"
   ]
  },
  {
   "cell_type": "code",
   "execution_count": 18,
   "metadata": {},
   "outputs": [
    {
     "data": {
      "text/latex": [
       "$\\displaystyle 0$"
      ],
      "text/plain": [
       "0"
      ]
     },
     "execution_count": 18,
     "metadata": {},
     "output_type": "execute_result"
    }
   ],
   "source": [
    "from sympy import sin   # 导入sin函数\n",
    "import sympy as sp\n",
    "\n",
    "e, x= sp.symbols('e x') # 符号化\n",
    "\n",
    "result = sp.integrate((e**(-x))*sin(x), (x, 0, 00))\n",
    "result"
   ]
  },
  {
   "attachments": {},
   "cell_type": "markdown",
   "metadata": {},
   "source": [
    "## 求方程 $x^3-4x^2+6x-8=0$ 的符号解和数值解"
   ]
  },
  {
   "cell_type": "code",
   "execution_count": 7,
   "metadata": {},
   "outputs": [
    {
     "data": {
      "text/plain": [
       "[4/3 + (-1/2 - sqrt(3)*I/2)*(64/27 + 2*sqrt(114)/9)**(1/3) - 2/(9*(-1/2 - sqrt(3)*I/2)*(64/27 + 2*sqrt(114)/9)**(1/3)),\n",
       " 4/3 - 2/(9*(-1/2 + sqrt(3)*I/2)*(64/27 + 2*sqrt(114)/9)**(1/3)) + (-1/2 + sqrt(3)*I/2)*(64/27 + 2*sqrt(114)/9)**(1/3),\n",
       " -2/(9*(64/27 + 2*sqrt(114)/9)**(1/3)) + 4/3 + (64/27 + 2*sqrt(114)/9)**(1/3)]"
      ]
     },
     "execution_count": 7,
     "metadata": {},
     "output_type": "execute_result"
    }
   ],
   "source": [
    "import sympy as sp\n",
    "\n"
   ]
  },
  {
   "attachments": {},
   "cell_type": "markdown",
   "metadata": {},
   "source": [
    "## 3.3 求方程组的符号解和数值解\n",
    "$\\begin{cases}\n",
    "x^2-y-x=3 \\\\ \n",
    "x+3y=6\n",
    "\\end{cases}$"
   ]
  },
  {
   "cell_type": "code",
   "execution_count": 14,
   "metadata": {},
   "outputs": [
    {
     "data": {
      "text/plain": [
       "[(1/3 - sqrt(46)/3, sqrt(46)/9 + 17/9), (1/3 + sqrt(46)/3, 17/9 - sqrt(46)/9)]"
      ]
     },
     "execution_count": 14,
     "metadata": {},
     "output_type": "execute_result"
    }
   ],
   "source": [
    "import sympy as sp\n",
    "\n",
    "x, y = sp.symbols('x y')\n",
    "\n",
    "result = sp.solve([x**2-y-x-3, x+3*y-6], [x, y])\n",
    "result"
   ]
  },
  {
   "attachments": {},
   "cell_type": "markdown",
   "metadata": {},
   "source": [
    "## 3.4 求边值问题$y^{''}+y=xcos2x$, $y(0)=1$, $y(2)=3$的符号解"
   ]
  },
  {
   "cell_type": "code",
   "execution_count": 16,
   "metadata": {},
   "outputs": [
    {
     "data": {
      "text/latex": [
       "$\\displaystyle y{\\left(x \\right)} = - \\frac{x \\cos{\\left(2 x \\right)}}{3} + \\frac{\\left(6 \\cos{\\left(4 \\right)} - 4 \\sin{\\left(4 \\right)} - 9 \\cos{\\left(2 \\right)} + 27\\right) \\sin{\\left(x \\right)}}{9 \\sin{\\left(2 \\right)}} + \\frac{4 \\sin{\\left(2 x \\right)}}{9} + \\cos{\\left(x \\right)}$"
      ],
      "text/plain": [
       "Eq(y(x), -x*cos(2*x)/3 + (6*cos(4) - 4*sin(4) - 9*cos(2) + 27)*sin(x)/(9*sin(2)) + 4*sin(2*x)/9 + cos(x))"
      ]
     },
     "execution_count": 16,
     "metadata": {},
     "output_type": "execute_result"
    }
   ],
   "source": [
    "import sympy as sp\n",
    "\n",
    "x = sp.symbols('x')\n",
    "y = sp.symbols('y', cls=sp.Function)\n",
    "\n",
    "eq = sp.diff(y(x), x, 2) + y(x) - x*sp.cos(2*x)\n",
    "\n",
    "result = sp.dsolve(eq, y(x), ics={y(0):1, y(2):3})\n",
    "result"
   ]
  },
  {
   "attachments": {},
   "cell_type": "markdown",
   "metadata": {},
   "source": [
    "## 3.5 已知\n",
    "$A_{1}=\\begin{bmatrix} 1 & 2 \\\\ 3 & 4 \\\\ 5 & 6 \\end{bmatrix}, \n",
    "A_{2}=\\begin{bmatrix} 1 & 1 \\\\ 2 & 2 \\\\ 3 & 4 \\end{bmatrix}, \n",
    "A_{3}=\\begin{bmatrix} 2 & 6 \\end{bmatrix},\n",
    "A_{4}=\\begin{bmatrix} 3 & 2 \\end{bmatrix}$\\\n",
    "利用Python分块矩阵的组合，求分块矩阵$A=\\begin{bmatrix} A_{1} & A_{2} \\\\ A_{3} & A_{4}\\end{bmatrix}$ 的行列式 $\\begin{vmatrix}A\\end{vmatrix}$"
   ]
  },
  {
   "cell_type": "code",
   "execution_count": 34,
   "metadata": {},
   "outputs": [
    {
     "data": {
      "text/latex": [
       "$\\displaystyle \\left[\\begin{matrix}1 & 2\\\\3 & 4\\\\5 & 6\\end{matrix}\\right]$"
      ],
      "text/plain": [
       "Matrix([\n",
       "[1, 2],\n",
       "[3, 4],\n",
       "[5, 6]])"
      ]
     },
     "execution_count": 34,
     "metadata": {},
     "output_type": "execute_result"
    }
   ],
   "source": [
    "import sympy as sp\n",
    "import numpy as np\n",
    "\n",
    "A1 = sp.Matrix(np.array(np.arange(1,7)).reshape(3,2, order='A'))\n",
    "A1"
   ]
  },
  {
   "cell_type": "code",
   "execution_count": 35,
   "metadata": {},
   "outputs": [
    {
     "data": {
      "text/latex": [
       "$\\displaystyle \\left[\\begin{matrix}1 & 1\\\\2 & 2\\\\3 & 4\\end{matrix}\\right]$"
      ],
      "text/plain": [
       "Matrix([\n",
       "[1, 1],\n",
       "[2, 2],\n",
       "[3, 4]])"
      ]
     },
     "execution_count": 35,
     "metadata": {},
     "output_type": "execute_result"
    }
   ],
   "source": [
    "A2 = sp.Matrix(np.array([1,1,2,2,3,4]).reshape(3,2, order='A'))\n",
    "A2"
   ]
  },
  {
   "cell_type": "code",
   "execution_count": 36,
   "metadata": {},
   "outputs": [
    {
     "data": {
      "text/latex": [
       "$\\displaystyle \\left[\\begin{matrix}2 & 6\\end{matrix}\\right]$"
      ],
      "text/plain": [
       "Matrix([[2, 6]])"
      ]
     },
     "execution_count": 36,
     "metadata": {},
     "output_type": "execute_result"
    }
   ],
   "source": [
    "A3 = sp.Matrix(np.array([2,6]).reshape(-1,2))\n",
    "A3"
   ]
  },
  {
   "cell_type": "code",
   "execution_count": 37,
   "metadata": {},
   "outputs": [
    {
     "data": {
      "text/latex": [
       "$\\displaystyle \\left[\\begin{matrix}3 & 2\\end{matrix}\\right]$"
      ],
      "text/plain": [
       "Matrix([[3, 2]])"
      ]
     },
     "execution_count": 37,
     "metadata": {},
     "output_type": "execute_result"
    }
   ],
   "source": [
    "A4 = sp.Matrix(np.array([3,2]).reshape(-1,2))\n",
    "A4"
   ]
  },
  {
   "cell_type": "code",
   "execution_count": 43,
   "metadata": {},
   "outputs": [
    {
     "data": {
      "text/latex": [
       "$\\displaystyle 0$"
      ],
      "text/plain": [
       "0"
      ]
     },
     "execution_count": 43,
     "metadata": {},
     "output_type": "execute_result"
    }
   ],
   "source": [
    "A12 = A1.row_join(A2)\n",
    "A34 = A3.row_join(A4)\n",
    "A = A12.col_join(A34)\n",
    "A.det()"
   ]
  },
  {
   "attachments": {},
   "cell_type": "markdown",
   "metadata": {},
   "source": [
    "## 3.6 求解下列线性方程组\n",
    "$(1) \\begin{cases}\n",
    "x_{1}+2x_{2}+x_{3}-x_{4}=0 \\\\ \n",
    "3x_{1}+6x_{2}-x_{3}-3x_{4}=0 \\\\\n",
    "5x_{1}+10x_{2}+x_{3}-5x_{4}=0\n",
    "\\end{cases}$ "
   ]
  },
  {
   "cell_type": "code",
   "execution_count": 45,
   "metadata": {},
   "outputs": [
    {
     "data": {
      "text/latex": [
       "$\\displaystyle \\left[\\begin{matrix}1 & 2 & 2 & -2\\\\3 & 6 & -1 & -3\\\\5 & 10 & 1 & -5\\end{matrix}\\right]$"
      ],
      "text/plain": [
       "Matrix([\n",
       "[1,  2,  2, -2],\n",
       "[3,  6, -1, -3],\n",
       "[5, 10,  1, -5]])"
      ]
     },
     "execution_count": 45,
     "metadata": {},
     "output_type": "execute_result"
    }
   ],
   "source": [
    "import numpy.linalg as LA\n",
    "import sympy as sp\n",
    "\n",
    "A = sp.Matrix(np.array([[1,2,2,-2],[3,6,-1,-3],[5,10,1,-5]]).reshape(3,4,order='A'))\n",
    "A"
   ]
  },
  {
   "attachments": {},
   "cell_type": "markdown",
   "metadata": {},
   "source": [
    "$(2) \\begin{cases} \n",
    "2x+y-z+w=1 \\\\\n",
    "4x+2y-2z+w=2 \\\\\n",
    "2x+y-z-w=1\n",
    "\\end{cases}$"
   ]
  },
  {
   "cell_type": "code",
   "execution_count": 49,
   "metadata": {},
   "outputs": [
    {
     "data": {
      "text/latex": [
       "$\\displaystyle x$"
      ],
      "text/plain": [
       "x"
      ]
     },
     "execution_count": 49,
     "metadata": {},
     "output_type": "execute_result"
    }
   ],
   "source": [
    "import sympy as sp\n",
    "\n",
    "x,  y, z, w = sp.symbols('x y z w')\n"
   ]
  },
  {
   "cell_type": "code",
   "execution_count": 50,
   "metadata": {},
   "outputs": [
    {
     "name": "stdout",
     "output_type": "stream",
     "text": [
      "Help on function rref in module sympy.matrices.matrices:\n",
      "\n",
      "rref(self, iszerofunc=<function _iszero at 0x0000022CA2701C60>, simplify=False, pivots=True, normalize_last=True)\n",
      "    Return reduced row-echelon form of matrix and indices of pivot vars.\n",
      "    \n",
      "    Parameters\n",
      "    ==========\n",
      "    \n",
      "    iszerofunc : Function\n",
      "        A function used for detecting whether an element can\n",
      "        act as a pivot.  ``lambda x: x.is_zero`` is used by default.\n",
      "    \n",
      "    simplify : Function\n",
      "        A function used to simplify elements when looking for a pivot.\n",
      "        By default SymPy's ``simplify`` is used.\n",
      "    \n",
      "    pivots : True or False\n",
      "        If ``True``, a tuple containing the row-reduced matrix and a tuple\n",
      "        of pivot columns is returned.  If ``False`` just the row-reduced\n",
      "        matrix is returned.\n",
      "    \n",
      "    normalize_last : True or False\n",
      "        If ``True``, no pivots are normalized to `1` until after all\n",
      "        entries above and below each pivot are zeroed.  This means the row\n",
      "        reduction algorithm is fraction free until the very last step.\n",
      "        If ``False``, the naive row reduction procedure is used where\n",
      "        each pivot is normalized to be `1` before row operations are\n",
      "        used to zero above and below the pivot.\n",
      "    \n",
      "    Examples\n",
      "    ========\n",
      "    \n",
      "    >>> from sympy import Matrix\n",
      "    >>> from sympy.abc import x\n",
      "    >>> m = Matrix([[1, 2], [x, 1 - 1/x]])\n",
      "    >>> m.rref()\n",
      "    (Matrix([\n",
      "    [1, 0],\n",
      "    [0, 1]]), (0, 1))\n",
      "    >>> rref_matrix, rref_pivots = m.rref()\n",
      "    >>> rref_matrix\n",
      "    Matrix([\n",
      "    [1, 0],\n",
      "    [0, 1]])\n",
      "    >>> rref_pivots\n",
      "    (0, 1)\n",
      "    \n",
      "    ``iszerofunc`` can correct rounding errors in matrices with float\n",
      "    values. In the following example, calling ``rref()`` leads to\n",
      "    floating point errors, incorrectly row reducing the matrix.\n",
      "    ``iszerofunc= lambda x: abs(x)<1e-9`` sets sufficiently small numbers\n",
      "    to zero, avoiding this error.\n",
      "    \n",
      "    >>> m = Matrix([[0.9, -0.1, -0.2, 0], [-0.8, 0.9, -0.4, 0], [-0.1, -0.8, 0.6, 0]])\n",
      "    >>> m.rref()\n",
      "    (Matrix([\n",
      "    [1, 0, 0, 0],\n",
      "    [0, 1, 0, 0],\n",
      "    [0, 0, 1, 0]]), (0, 1, 2))\n",
      "    >>> m.rref(iszerofunc=lambda x:abs(x)<1e-9)\n",
      "    (Matrix([\n",
      "    [1, 0, -0.301369863013699, 0],\n",
      "    [0, 1, -0.712328767123288, 0],\n",
      "    [0, 0,         0,          0]]), (0, 1))\n",
      "    \n",
      "    Notes\n",
      "    =====\n",
      "    \n",
      "    The default value of ``normalize_last=True`` can provide significant\n",
      "    speedup to row reduction, especially on matrices with symbols.  However,\n",
      "    if you depend on the form row reduction algorithm leaves entries\n",
      "    of the matrix, set ``noramlize_last=False``\n",
      "\n"
     ]
    }
   ],
   "source": [
    "help(sp.Matrix.rref)"
   ]
  },
  {
   "attachments": {},
   "cell_type": "markdown",
   "metadata": {},
   "source": []
  }
 ],
 "metadata": {
  "kernelspec": {
   "display_name": "Python 3",
   "language": "python",
   "name": "python3"
  },
  "language_info": {
   "codemirror_mode": {
    "name": "ipython",
    "version": 3
   },
   "file_extension": ".py",
   "mimetype": "text/x-python",
   "name": "python",
   "nbconvert_exporter": "python",
   "pygments_lexer": "ipython3",
   "version": "3.10.10"
  },
  "orig_nbformat": 4,
  "vscode": {
   "interpreter": {
    "hash": "1068a8abc0e529f45bfade65837536d164909a1d59a0eaef6af3797eac65d1f4"
   }
  }
 },
 "nbformat": 4,
 "nbformat_minor": 2
}
